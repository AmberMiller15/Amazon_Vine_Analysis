{
  "nbformat": 4,
  "nbformat_minor": 0,
  "metadata": {
    "colab": {
      "provenance": []
    },
    "kernelspec": {
      "name": "python3",
      "display_name": "Python 3"
    },
    "language_info": {
      "name": "python"
    }
  },
  "cells": [
    {
      "cell_type": "code",
      "execution_count": 1,
      "metadata": {
        "colab": {
          "base_uri": "https://localhost:8080/"
        },
        "id": "3vjYG5NXqjfX",
        "outputId": "a53525e2-8846-4d89-8d1c-5d408f93eb23"
      },
      "outputs": [
        {
          "output_type": "stream",
          "name": "stdout",
          "text": [
            "Get:1 https://cloud.r-project.org/bin/linux/ubuntu focal-cran40/ InRelease [3,622 B]\n",
            "Ign:2 https://developer.download.nvidia.com/compute/machine-learning/repos/ubuntu2004/x86_64  InRelease\n",
            "Get:3 https://developer.download.nvidia.com/compute/cuda/repos/ubuntu2004/x86_64  InRelease [1,581 B]\n",
            "Hit:4 https://developer.download.nvidia.com/compute/machine-learning/repos/ubuntu2004/x86_64  Release\n",
            "Get:5 http://security.ubuntu.com/ubuntu focal-security InRelease [114 kB]\n",
            "Hit:6 http://archive.ubuntu.com/ubuntu focal InRelease\n",
            "Hit:7 http://ppa.launchpad.net/c2d4u.team/c2d4u4.0+/ubuntu focal InRelease\n",
            "Get:8 http://archive.ubuntu.com/ubuntu focal-updates InRelease [114 kB]\n",
            "Hit:9 http://ppa.launchpad.net/cran/libgit2/ubuntu focal InRelease\n",
            "Hit:10 http://ppa.launchpad.net/deadsnakes/ppa/ubuntu focal InRelease\n",
            "Get:11 http://archive.ubuntu.com/ubuntu focal-backports InRelease [108 kB]\n",
            "Hit:12 http://ppa.launchpad.net/graphics-drivers/ppa/ubuntu focal InRelease\n",
            "Get:13 https://developer.download.nvidia.com/compute/cuda/repos/ubuntu2004/x86_64  Packages [869 kB]\n",
            "Get:15 http://security.ubuntu.com/ubuntu focal-security/main amd64 Packages [2,448 kB]\n",
            "Get:16 http://security.ubuntu.com/ubuntu focal-security/universe amd64 Packages [990 kB]\n",
            "Get:17 http://archive.ubuntu.com/ubuntu focal-updates/universe amd64 Packages [1,291 kB]\n",
            "Get:18 http://archive.ubuntu.com/ubuntu focal-updates/main amd64 Packages [2,921 kB]\n",
            "Get:19 http://archive.ubuntu.com/ubuntu focal-backports/universe amd64 Packages [28.6 kB]\n",
            "Fetched 8,889 kB in 10s (870 kB/s)\n",
            "Reading package lists... Done\n"
          ]
        }
      ],
      "source": [
        "import os\n",
        "# Find the latest version of spark 3.0  from http://www.apache.org/dist/spark/ and enter as the spark version\n",
        "# For example:\n",
        "# spark_version = 'spark-3.0.3'\n",
        "spark_version = 'spark-3.2.3'\n",
        "os.environ['SPARK_VERSION']=spark_version\n",
        "\n",
        "# Install Spark and Java\n",
        "!apt-get update\n",
        "!apt-get install openjdk-11-jdk-headless -qq > /dev/null\n",
        "!wget -q http://www.apache.org/dist/spark/$SPARK_VERSION/$SPARK_VERSION-bin-hadoop2.7.tgz\n",
        "!tar xf $SPARK_VERSION-bin-hadoop2.7.tgz\n",
        "!pip install -q findspark\n",
        "\n",
        "# Set Environment Variables\n",
        "os.environ[\"JAVA_HOME\"] = \"/usr/lib/jvm/java-11-openjdk-amd64\"\n",
        "os.environ[\"SPARK_HOME\"] = f\"/content/{spark_version}-bin-hadoop2.7\"\n",
        "\n",
        "# Start a SparkSession\n",
        "import findspark\n",
        "findspark.init()"
      ]
    },
    {
      "cell_type": "code",
      "source": [
        "from pyspark.sql import SparkSession\n",
        "spark = SparkSession.builder.appName(\"M17-Amazon-Challenge\").config(\"spark.driver.extraClassPath\",\"/content/postgresql-42.2.16.jar\").getOrCreate()"
      ],
      "metadata": {
        "id": "dgKD0tCKsc7E"
      },
      "execution_count": 2,
      "outputs": []
    },
    {
      "cell_type": "code",
      "source": [
        "from pyspark import SparkFiles\n",
        "url = \"https://s3.amazonaws.com/amazon-reviews-pds/tsv/amazon_reviews_us_Digital_Ebook_Purchase_v1_01.tsv.gz\"\n",
        "spark.sparkContext.addFile(url)\n",
        "df = spark.read.option(\"encoding\", \"UTF-8\").csv(SparkFiles.get(\"\"), sep=\"\\t\", header=True, inferSchema=True)\n",
        "df.show(5)"
      ],
      "metadata": {
        "colab": {
          "base_uri": "https://localhost:8080/"
        },
        "id": "pPFl4cKusZ6A",
        "outputId": "a61b2725-ed55-4f9c-dfc1-675d30fa3d02"
      },
      "execution_count": 3,
      "outputs": [
        {
          "output_type": "stream",
          "name": "stdout",
          "text": [
            "+-----------+-----------+--------------+----------+--------------+--------------------+--------------------+-----------+-------------+-----------+----+-----------------+--------------------+--------------------+-----------+\n",
            "|marketplace|customer_id|     review_id|product_id|product_parent|       product_title|    product_category|star_rating|helpful_votes|total_votes|vine|verified_purchase|     review_headline|         review_body|review_date|\n",
            "+-----------+-----------+--------------+----------+--------------+--------------------+--------------------+-----------+-------------+-----------+----+-----------------+--------------------+--------------------+-----------+\n",
            "|         US|   33605939| RGYFDX8QXKEIR|B007KO2MLO|     328837464|           Big Maria|Digital_Ebook_Pur...|          4|            0|          0|   N|                N|              Quirky|Elmore Leonard me...| 2013-09-09|\n",
            "|         US|   34058393|R13CBGTMNV9R8Z|B005FLODDE|     764276359|The Woman Who Was...|Digital_Ebook_Pur...|          4|            1|          2|   N|                Y|The Woman Who Was...|This book was ver...| 2013-09-09|\n",
            "|         US|   39601147| R7DRFHC0F71O0|B00EA3L35O|     535606445|Mary had A Sleepy...|Digital_Ebook_Pur...|          5|            0|          0|   N|                N|This Sleepy Sheep...|I had the opportu...| 2013-09-09|\n",
            "|         US|   17351407|R27LUKEXU3KBXQ|B00BL3JV50|     240053004|          Starstruck|Digital_Ebook_Pur...|          5|            1|          1|   N|                Y|Steamy and suspen...|What a great read...| 2013-09-09|\n",
            "|         US|   10463387|R1VXTPUYMNU687|B00CXU7U80|     931529805|The Complete Cona...|Digital_Ebook_Pur...|          5|            1|          2|   N|                N|          Barbarians|Barbarians need l...| 2013-09-09|\n",
            "+-----------+-----------+--------------+----------+--------------+--------------------+--------------------+-----------+-------------+-----------+----+-----------------+--------------------+--------------------+-----------+\n",
            "only showing top 5 rows\n",
            "\n"
          ]
        }
      ]
    },
    {
      "cell_type": "code",
      "source": [
        "# Filter total_votes count is equal to or greater than 20\n",
        "df2 = df.filter(df.total_votes >= 20)\n",
        "df2.show(10)"
      ],
      "metadata": {
        "colab": {
          "base_uri": "https://localhost:8080/"
        },
        "id": "NcR7hUc8saBe",
        "outputId": "4eddbed8-d2c3-40bf-d549-7a6fbca1c898"
      },
      "execution_count": 4,
      "outputs": [
        {
          "output_type": "stream",
          "name": "stdout",
          "text": [
            "+-----------+-----------+--------------+----------+--------------+--------------------+--------------------+-----------+-------------+-----------+----+-----------------+--------------------+--------------------+-----------+\n",
            "|marketplace|customer_id|     review_id|product_id|product_parent|       product_title|    product_category|star_rating|helpful_votes|total_votes|vine|verified_purchase|     review_headline|         review_body|review_date|\n",
            "+-----------+-----------+--------------+----------+--------------+--------------------+--------------------+-----------+-------------+-----------+----+-----------------+--------------------+--------------------+-----------+\n",
            "|         US|    4514126|R39ESX43X1SA5T|B006NG0GXQ|     402593554|Forever His: A Ti...|Digital_Ebook_Pur...|          1|           36|         47|   N|                Y|   Completely absurd|From the time tha...| 2013-09-09|\n",
            "|         US|   45292583|R31QRZ3JAMPBB4|B0078T6YHY|     267532424|A Lady in Defianc...|Digital_Ebook_Pur...|          1|           16|         26|   N|                Y|           No thanks|This work should ...| 2013-09-09|\n",
            "|         US|   12175486|R23FKBEXURC3SN|B00F225YK2|     953280558|Very Bad Things (...|Digital_Ebook_Pur...|          5|           28|         36|   N|                N|Holy Hotness, Bla...|Another Fave of 2...| 2013-09-09|\n",
            "|         US|   13678613| R4IAIDV5EE84W|B003WUYQG4|      58271710|Fear and Loathing...|Digital_Ebook_Pur...|          1|            8|         21|   N|                Y|Horrible - hated ...|Absolutely hated ...| 2013-09-09|\n",
            "|         US|   12897097|R26MB2DA7ROT4P|B009K7WBR4|     258778337|            The Veil|Digital_Ebook_Pur...|          1|            2|         21|   N|                Y|     Couldn't finish|Or maybe I should...| 2013-09-09|\n",
            "|         US|   28507300| RTRVYV0GWUTCK|B00EY3DN58|     694178149|there was no Jesu...|Digital_Ebook_Pur...|          5|           18|         25|   N|                Y|Great discussion ...|It is great to ha...| 2013-09-09|\n",
            "|         US|   18309091|R3QLZAI37SNOOC|B00DMA6W16|     180312277|     Love In Between|Digital_Ebook_Pur...|          2|           30|         31|   N|                Y|Elementary at best..|After reading all...| 2013-09-09|\n",
            "|         US|   16432598|R1QYZU3RS4CY4F|B00EP4SFOK|     758167516|Slow Cooking for ...|Digital_Ebook_Pur...|          5|           66|         76|   N|                N|  Just What I Needed|Being recent empt...| 2013-09-09|\n",
            "|         US|   49575885|R2UR5OLN1BU87J|B003YCPF88|     547673779|For Love of Livvy...|Digital_Ebook_Pur...|          2|           21|         23|   N|                Y|Disappointing and...|First of all, how...| 2013-09-09|\n",
            "|         US|   38584560| RYBZ6CTBOGI0H|B008J4B40Y|     743481356|Brilliant Blunder...|Digital_Ebook_Pur...|          1|            3|         84|   N|                N|No easy way to co...|Amazon's return p...| 2013-09-09|\n",
            "+-----------+-----------+--------------+----------+--------------+--------------------+--------------------+-----------+-------------+-----------+----+-----------------+--------------------+--------------------+-----------+\n",
            "only showing top 10 rows\n",
            "\n"
          ]
        }
      ]
    },
    {
      "cell_type": "code",
      "source": [
        "# Create a new DF to retrieve all the rows where the number of helpful_votes divided by total_votes >= 50%\n",
        "df3 = df2.filter((df2.helpful_votes / df2.total_votes) >= 0.5)\n",
        "df3.show(10)"
      ],
      "metadata": {
        "colab": {
          "base_uri": "https://localhost:8080/"
        },
        "id": "lR--78GNsaEq",
        "outputId": "bb7ffbe4-5dd3-4843-d502-8a2053843000"
      },
      "execution_count": 5,
      "outputs": [
        {
          "output_type": "stream",
          "name": "stdout",
          "text": [
            "+-----------+-----------+--------------+----------+--------------+--------------------+--------------------+-----------+-------------+-----------+----+-----------------+--------------------+--------------------+-----------+\n",
            "|marketplace|customer_id|     review_id|product_id|product_parent|       product_title|    product_category|star_rating|helpful_votes|total_votes|vine|verified_purchase|     review_headline|         review_body|review_date|\n",
            "+-----------+-----------+--------------+----------+--------------+--------------------+--------------------+-----------+-------------+-----------+----+-----------------+--------------------+--------------------+-----------+\n",
            "|         US|    4514126|R39ESX43X1SA5T|B006NG0GXQ|     402593554|Forever His: A Ti...|Digital_Ebook_Pur...|          1|           36|         47|   N|                Y|   Completely absurd|From the time tha...| 2013-09-09|\n",
            "|         US|   45292583|R31QRZ3JAMPBB4|B0078T6YHY|     267532424|A Lady in Defianc...|Digital_Ebook_Pur...|          1|           16|         26|   N|                Y|           No thanks|This work should ...| 2013-09-09|\n",
            "|         US|   12175486|R23FKBEXURC3SN|B00F225YK2|     953280558|Very Bad Things (...|Digital_Ebook_Pur...|          5|           28|         36|   N|                N|Holy Hotness, Bla...|Another Fave of 2...| 2013-09-09|\n",
            "|         US|   28507300| RTRVYV0GWUTCK|B00EY3DN58|     694178149|there was no Jesu...|Digital_Ebook_Pur...|          5|           18|         25|   N|                Y|Great discussion ...|It is great to ha...| 2013-09-09|\n",
            "|         US|   18309091|R3QLZAI37SNOOC|B00DMA6W16|     180312277|     Love In Between|Digital_Ebook_Pur...|          2|           30|         31|   N|                Y|Elementary at best..|After reading all...| 2013-09-09|\n",
            "|         US|   16432598|R1QYZU3RS4CY4F|B00EP4SFOK|     758167516|Slow Cooking for ...|Digital_Ebook_Pur...|          5|           66|         76|   N|                N|  Just What I Needed|Being recent empt...| 2013-09-09|\n",
            "|         US|   49575885|R2UR5OLN1BU87J|B003YCPF88|     547673779|For Love of Livvy...|Digital_Ebook_Pur...|          2|           21|         23|   N|                Y|Disappointing and...|First of all, how...| 2013-09-09|\n",
            "|         US|   49408728|R38NW44NY19VAZ|B00ENN17MU|     611474610|The Metabolic Sto...|Digital_Ebook_Pur...|          5|           30|         32|   N|                Y|Finally, somebody...|Thank goodness we...| 2013-09-09|\n",
            "|         US|   42233178| RLUFKZ223OR3L|B00EXCZXYE|     985833280|       Crimson Night|Digital_Ebook_Pur...|          2|           20|         23|   N|                N|     Pink evening...|I'm torn about th...| 2013-09-09|\n",
            "|         US|   51366449|R3H9D0U7BCE6FU|B00DUFCJ10|     515159047|1000 Yards - A Jo...|Digital_Ebook_Pur...|          4|           23|         24|   N|                Y|5 out of 6 ain't ...|Looking for a sho...| 2013-09-09|\n",
            "+-----------+-----------+--------------+----------+--------------+--------------------+--------------------+-----------+-------------+-----------+----+-----------------+--------------------+--------------------+-----------+\n",
            "only showing top 10 rows\n",
            "\n"
          ]
        }
      ]
    },
    {
      "cell_type": "code",
      "source": [
        "# Create a new DF to retrieve all the rows where a review written was part of the vine program\n",
        "paid_df = df3.filter(df3.vine == 'Y')\n",
        "paid_df.show(10)"
      ],
      "metadata": {
        "colab": {
          "base_uri": "https://localhost:8080/"
        },
        "id": "NN8aK_7xsaHV",
        "outputId": "43e8ae52-9a36-4db1-8855-e7ef6ac3b708"
      },
      "execution_count": 6,
      "outputs": [
        {
          "output_type": "stream",
          "name": "stdout",
          "text": [
            "+-----------+-----------+---------+----------+--------------+-------------+----------------+-----------+-------------+-----------+----+-----------------+---------------+-----------+-----------+\n",
            "|marketplace|customer_id|review_id|product_id|product_parent|product_title|product_category|star_rating|helpful_votes|total_votes|vine|verified_purchase|review_headline|review_body|review_date|\n",
            "+-----------+-----------+---------+----------+--------------+-------------+----------------+-----------+-------------+-----------+----+-----------------+---------------+-----------+-----------+\n",
            "+-----------+-----------+---------+----------+--------------+-------------+----------------+-----------+-------------+-----------+----+-----------------+---------------+-----------+-----------+\n",
            "\n"
          ]
        }
      ]
    },
    {
      "cell_type": "code",
      "source": [
        "# Create a new DF to retrieve all the rows where a review written was not part of the vine program\n",
        "unpaid_df = df3.filter(df3.vine == \"N\")\n",
        "unpaid_df.show(10)"
      ],
      "metadata": {
        "colab": {
          "base_uri": "https://localhost:8080/"
        },
        "id": "tDnsspmVsaKg",
        "outputId": "7aab16c5-8a98-4aab-9770-04df98fff003"
      },
      "execution_count": 7,
      "outputs": [
        {
          "output_type": "stream",
          "name": "stdout",
          "text": [
            "+-----------+-----------+--------------+----------+--------------+--------------------+--------------------+-----------+-------------+-----------+----+-----------------+--------------------+--------------------+-----------+\n",
            "|marketplace|customer_id|     review_id|product_id|product_parent|       product_title|    product_category|star_rating|helpful_votes|total_votes|vine|verified_purchase|     review_headline|         review_body|review_date|\n",
            "+-----------+-----------+--------------+----------+--------------+--------------------+--------------------+-----------+-------------+-----------+----+-----------------+--------------------+--------------------+-----------+\n",
            "|         US|    4514126|R39ESX43X1SA5T|B006NG0GXQ|     402593554|Forever His: A Ti...|Digital_Ebook_Pur...|          1|           36|         47|   N|                Y|   Completely absurd|From the time tha...| 2013-09-09|\n",
            "|         US|   45292583|R31QRZ3JAMPBB4|B0078T6YHY|     267532424|A Lady in Defianc...|Digital_Ebook_Pur...|          1|           16|         26|   N|                Y|           No thanks|This work should ...| 2013-09-09|\n",
            "|         US|   12175486|R23FKBEXURC3SN|B00F225YK2|     953280558|Very Bad Things (...|Digital_Ebook_Pur...|          5|           28|         36|   N|                N|Holy Hotness, Bla...|Another Fave of 2...| 2013-09-09|\n",
            "|         US|   28507300| RTRVYV0GWUTCK|B00EY3DN58|     694178149|there was no Jesu...|Digital_Ebook_Pur...|          5|           18|         25|   N|                Y|Great discussion ...|It is great to ha...| 2013-09-09|\n",
            "|         US|   18309091|R3QLZAI37SNOOC|B00DMA6W16|     180312277|     Love In Between|Digital_Ebook_Pur...|          2|           30|         31|   N|                Y|Elementary at best..|After reading all...| 2013-09-09|\n",
            "|         US|   16432598|R1QYZU3RS4CY4F|B00EP4SFOK|     758167516|Slow Cooking for ...|Digital_Ebook_Pur...|          5|           66|         76|   N|                N|  Just What I Needed|Being recent empt...| 2013-09-09|\n",
            "|         US|   49575885|R2UR5OLN1BU87J|B003YCPF88|     547673779|For Love of Livvy...|Digital_Ebook_Pur...|          2|           21|         23|   N|                Y|Disappointing and...|First of all, how...| 2013-09-09|\n",
            "|         US|   49408728|R38NW44NY19VAZ|B00ENN17MU|     611474610|The Metabolic Sto...|Digital_Ebook_Pur...|          5|           30|         32|   N|                Y|Finally, somebody...|Thank goodness we...| 2013-09-09|\n",
            "|         US|   42233178| RLUFKZ223OR3L|B00EXCZXYE|     985833280|       Crimson Night|Digital_Ebook_Pur...|          2|           20|         23|   N|                N|     Pink evening...|I'm torn about th...| 2013-09-09|\n",
            "|         US|   51366449|R3H9D0U7BCE6FU|B00DUFCJ10|     515159047|1000 Yards - A Jo...|Digital_Ebook_Pur...|          4|           23|         24|   N|                Y|5 out of 6 ain't ...|Looking for a sho...| 2013-09-09|\n",
            "+-----------+-----------+--------------+----------+--------------+--------------------+--------------------+-----------+-------------+-----------+----+-----------------+--------------------+--------------------+-----------+\n",
            "only showing top 10 rows\n",
            "\n"
          ]
        }
      ]
    },
    {
      "cell_type": "code",
      "source": [
        "# Total number of reviews\n",
        "total_reviews = df.count()\n",
        "total_reviews"
      ],
      "metadata": {
        "colab": {
          "base_uri": "https://localhost:8080/"
        },
        "id": "cFh1T07lsaNm",
        "outputId": "01b27c7c-2d04-4598-8581-eb09ee7f0470"
      },
      "execution_count": 8,
      "outputs": [
        {
          "output_type": "execute_result",
          "data": {
            "text/plain": [
              "5101693"
            ]
          },
          "metadata": {},
          "execution_count": 8
        }
      ]
    },
    {
      "cell_type": "code",
      "source": [
        "# Total number of 5-star reviews\n",
        "total_five_star_reviews = df.filter(df.star_rating == 5).count()\n",
        "total_five_star_reviews"
      ],
      "metadata": {
        "colab": {
          "base_uri": "https://localhost:8080/"
        },
        "id": "ScqB1VqIsaQg",
        "outputId": "b3c0e60a-638e-4e0c-e005-b63ae4aa8641"
      },
      "execution_count": 9,
      "outputs": [
        {
          "output_type": "execute_result",
          "data": {
            "text/plain": [
              "2952613"
            ]
          },
          "metadata": {},
          "execution_count": 9
        }
      ]
    },
    {
      "cell_type": "code",
      "source": [
        "# Percentage of five star reviews \n",
        "total_percentage = (total_five_star_reviews / total_reviews)*100\n",
        "total_percentage"
      ],
      "metadata": {
        "colab": {
          "base_uri": "https://localhost:8080/"
        },
        "id": "lHattJwqy5ww",
        "outputId": "a03d7f88-f02c-461f-d03d-0c0b7b9dfbec"
      },
      "execution_count": 10,
      "outputs": [
        {
          "output_type": "execute_result",
          "data": {
            "text/plain": [
              "57.87516026542562"
            ]
          },
          "metadata": {},
          "execution_count": 10
        }
      ]
    },
    {
      "cell_type": "code",
      "source": [
        "# Total number of paid reviews\n",
        "total_paid = paid_df.count()\n",
        "total_paid"
      ],
      "metadata": {
        "colab": {
          "base_uri": "https://localhost:8080/"
        },
        "id": "iR1E7VissaTs",
        "outputId": "7236e540-1f63-4716-fc8b-c717fed19bdb"
      },
      "execution_count": 17,
      "outputs": [
        {
          "output_type": "execute_result",
          "data": {
            "text/plain": [
              "0"
            ]
          },
          "metadata": {},
          "execution_count": 17
        }
      ]
    },
    {
      "cell_type": "code",
      "source": [
        "# Total number of 5-star reviews\n",
        "paid_five_star_reviews = paid_df.filter(paid_df.star_rating == 5).count()\n",
        "paid_five_star_reviews"
      ],
      "metadata": {
        "colab": {
          "base_uri": "https://localhost:8080/"
        },
        "id": "_QUtHmLVsaWx",
        "outputId": "b15b3ab2-2506-4f83-a0fb-6c281a4f0d4d"
      },
      "execution_count": 18,
      "outputs": [
        {
          "output_type": "execute_result",
          "data": {
            "text/plain": [
              "0"
            ]
          },
          "metadata": {},
          "execution_count": 18
        }
      ]
    },
    {
      "cell_type": "code",
      "source": [
        "# Percentage of paid five star reviews\n",
        "paid_five_star_percent = (paid_five_star_reviews / total_paid) * 100\n",
        "paid_five_star_percent"
      ],
      "metadata": {
        "colab": {
          "base_uri": "https://localhost:8080/",
          "height": 198
        },
        "id": "jKMcxHeBxyF5",
        "outputId": "0aca0680-b8a0-4309-9f12-88d95baec23f"
      },
      "execution_count": 19,
      "outputs": [
        {
          "output_type": "error",
          "ename": "ZeroDivisionError",
          "evalue": "ignored",
          "traceback": [
            "\u001b[0;31m---------------------------------------------------------------------------\u001b[0m",
            "\u001b[0;31mZeroDivisionError\u001b[0m                         Traceback (most recent call last)",
            "\u001b[0;32m<ipython-input-19-12e97dd27b38>\u001b[0m in \u001b[0;36m<module>\u001b[0;34m\u001b[0m\n\u001b[1;32m      1\u001b[0m \u001b[0;31m# Percentage of paid five star reviews\u001b[0m\u001b[0;34m\u001b[0m\u001b[0;34m\u001b[0m\u001b[0;34m\u001b[0m\u001b[0m\n\u001b[0;32m----> 2\u001b[0;31m \u001b[0mpaid_five_star_percent\u001b[0m \u001b[0;34m=\u001b[0m \u001b[0;34m(\u001b[0m\u001b[0mpaid_five_star_reviews\u001b[0m \u001b[0;34m/\u001b[0m \u001b[0mtotal_paid\u001b[0m\u001b[0;34m)\u001b[0m \u001b[0;34m*\u001b[0m \u001b[0;36m100\u001b[0m\u001b[0;34m\u001b[0m\u001b[0;34m\u001b[0m\u001b[0m\n\u001b[0m\u001b[1;32m      3\u001b[0m \u001b[0mpaid_five_star_percent\u001b[0m\u001b[0;34m\u001b[0m\u001b[0;34m\u001b[0m\u001b[0m\n",
            "\u001b[0;31mZeroDivisionError\u001b[0m: division by zero"
          ]
        }
      ]
    },
    {
      "cell_type": "code",
      "source": [
        "# Total number of unpaid reviews\n",
        "total_unpaid = unpaid_df.count()\n",
        "total_unpaid"
      ],
      "metadata": {
        "colab": {
          "base_uri": "https://localhost:8080/"
        },
        "id": "ACZFDYofsaZW",
        "outputId": "fccfb58b-2dc8-4a80-cc69-75bf551ad9c7"
      },
      "execution_count": 20,
      "outputs": [
        {
          "output_type": "execute_result",
          "data": {
            "text/plain": [
              "65149"
            ]
          },
          "metadata": {},
          "execution_count": 20
        }
      ]
    },
    {
      "cell_type": "code",
      "source": [
        "# Total number of 5-star reviews\n",
        "unpaid_five_star_reviews = unpaid_df.filter(unpaid_df.star_rating == 5).count()\n",
        "unpaid_five_star_reviews"
      ],
      "metadata": {
        "colab": {
          "base_uri": "https://localhost:8080/"
        },
        "id": "6V8Zoo_jxyDP",
        "outputId": "258fcda8-0673-4509-ce5b-d9a088a7e52f"
      },
      "execution_count": 21,
      "outputs": [
        {
          "output_type": "execute_result",
          "data": {
            "text/plain": [
              "24673"
            ]
          },
          "metadata": {},
          "execution_count": 21
        }
      ]
    },
    {
      "cell_type": "code",
      "source": [
        "# Percentage of unpaid five star reviews\n",
        "unpaid_five_star_percent = (unpaid_five_star_reviews / total_unpaid) * 100\n",
        "unpaid_five_star_percent"
      ],
      "metadata": {
        "colab": {
          "base_uri": "https://localhost:8080/"
        },
        "id": "joi_nUoixyIP",
        "outputId": "883561f4-7b8c-4bad-e3db-ec6fdbf81721"
      },
      "execution_count": 22,
      "outputs": [
        {
          "output_type": "execute_result",
          "data": {
            "text/plain": [
              "37.87164806827427"
            ]
          },
          "metadata": {},
          "execution_count": 22
        }
      ]
    }
  ]
}